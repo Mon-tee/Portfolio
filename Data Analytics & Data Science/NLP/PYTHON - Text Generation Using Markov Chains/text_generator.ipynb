{
  "nbformat": 4,
  "nbformat_minor": 0,
  "metadata": {
    "colab": {
      "provenance": []
    },
    "kernelspec": {
      "name": "python3",
      "display_name": "Python 3"
    },
    "language_info": {
      "name": "python"
    }
  },
  "cells": [
    {
      "cell_type": "code",
      "execution_count": 50,
      "metadata": {
        "colab": {
          "base_uri": "https://localhost:8080/"
        },
        "id": "4IDWFZ7PydXP",
        "outputId": "3d7adcdf-3399-49c5-a734-a6afbb7c1aa7"
      },
      "outputs": [
        {
          "output_type": "stream",
          "name": "stderr",
          "text": [
            "[nltk_data] Downloading package punkt to /root/nltk_data...\n",
            "[nltk_data]   Package punkt is already up-to-date!\n"
          ]
        },
        {
          "output_type": "execute_result",
          "data": {
            "text/plain": [
              "True"
            ]
          },
          "metadata": {},
          "execution_count": 50
        }
      ],
      "source": [
        "import numpy as np\n",
        "import string\n",
        "\n",
        "import nltk\n",
        "from nltk import word_tokenize\n",
        "\n",
        "nltk.download('punkt')\n"
      ]
    },
    {
      "cell_type": "code",
      "source": [
        "!wget https://storage.googleapis.com/download.tensorflow.org/data/shakespeare.txt"
      ],
      "metadata": {
        "colab": {
          "base_uri": "https://localhost:8080/"
        },
        "id": "MfXaRc3Vyu9r",
        "outputId": "4aacd644-dda6-4110-87e0-c549d3026ec3"
      },
      "execution_count": 51,
      "outputs": [
        {
          "output_type": "stream",
          "name": "stdout",
          "text": [
            "--2024-05-04 09:35:20--  https://storage.googleapis.com/download.tensorflow.org/data/shakespeare.txt\n",
            "Resolving storage.googleapis.com (storage.googleapis.com)... 108.177.12.207, 108.177.11.207, 74.125.26.207, ...\n",
            "Connecting to storage.googleapis.com (storage.googleapis.com)|108.177.12.207|:443... connected.\n",
            "HTTP request sent, awaiting response... 200 OK\n",
            "Length: 1115394 (1.1M) [text/plain]\n",
            "Saving to: ‘shakespeare.txt.4’\n",
            "\n",
            "\rshakespeare.txt.4     0%[                    ]       0  --.-KB/s               \rshakespeare.txt.4   100%[===================>]   1.06M  --.-KB/s    in 0.01s   \n",
            "\n",
            "2024-05-04 09:35:21 (94.4 MB/s) - ‘shakespeare.txt.4’ saved [1115394/1115394]\n",
            "\n"
          ]
        }
      ]
    },
    {
      "cell_type": "code",
      "source": [
        "def text_preprocess(s):\n",
        "    return s.lower().rstrip().translate(str.maketrans('','',string.punctuation))"
      ],
      "metadata": {
        "id": "FTefcJ6SzaRT"
      },
      "execution_count": 52,
      "outputs": []
    },
    {
      "cell_type": "code",
      "source": [
        "def add_to_dict(d, k, v):\n",
        "  if k not in d:\n",
        "    d[k] = []\n",
        "  d[k].append(v)"
      ],
      "metadata": {
        "id": "k5adtvkzzcWd"
      },
      "execution_count": 53,
      "outputs": []
    },
    {
      "cell_type": "code",
      "source": [
        "def list_to_predict(tl):\n",
        "  d = {}\n",
        "\n",
        "  for term in tl:\n",
        "    d[term] = d.get(term, 0) + 1\n",
        "\n",
        "  n = sum(d.values())\n",
        "\n",
        "  for term, count in d.items():\n",
        "    d[term] = count / n\n",
        "\n",
        "  return d"
      ],
      "metadata": {
        "id": "Im1nSovpzjPp"
      },
      "execution_count": 54,
      "outputs": []
    },
    {
      "cell_type": "code",
      "source": [
        "def sample_word(d):\n",
        "  p0 = np.random.random()\n",
        "  cumulative = 0\n",
        "\n",
        "  for t, p in d.items():\n",
        "    cumulative += p\n",
        "    if(p0 < cumulative):\n",
        "      return t\n",
        "\n",
        "  assert(False)"
      ],
      "metadata": {
        "id": "xiPyQZkRzoGw"
      },
      "execution_count": 55,
      "outputs": []
    },
    {
      "cell_type": "code",
      "source": [
        "def generate():\n",
        "  for i in range(12):\n",
        "    sentence = []\n",
        "\n",
        "    w0 = sample_word(initial)\n",
        "    sentence.append(w0)\n",
        "\n",
        "    w1 = sample_word(first_order[w0])\n",
        "    sentence.append(w1)\n",
        "\n",
        "    while True:\n",
        "      w2 = sample_word(second_order[w0,w1])\n",
        "      if w2 == 'END':\n",
        "        break\n",
        "      sentence.append(w2)\n",
        "      w0 = w1\n",
        "      w1 = w2\n",
        "\n",
        "    print(' '.join(sentence))"
      ],
      "metadata": {
        "id": "gm2zuFcazpaa"
      },
      "execution_count": 56,
      "outputs": []
    },
    {
      "cell_type": "code",
      "source": [
        "initial = {}\n",
        "first_order = {}\n",
        "second_order = {}\n",
        "\n"
      ],
      "metadata": {
        "id": "kNe8lHmozO7l"
      },
      "execution_count": 57,
      "outputs": []
    },
    {
      "cell_type": "code",
      "source": [
        "for line in open('/content/shakespeare.txt'):\n",
        "\n",
        "  if(line == \"\" or \":\" in line):\n",
        "    continue\n",
        "\n",
        "  line = text_preprocess(line)\n",
        "  tokens = word_tokenize(line)\n",
        "\n",
        "  for i, token in enumerate(tokens):\n",
        "    if i == 0:\n",
        "      initial[token] = initial.get(token,0) + 1\n",
        "    else:\n",
        "      token_1 = tokens[i-1]\n",
        "      if i == len(tokens)-1:\n",
        "        add_to_dict(second_order,(token_1, token),'END')\n",
        "      if i == 1:\n",
        "        add_to_dict(first_order, (token_1), token)\n",
        "      else:\n",
        "        token_2 = tokens[i-2]\n",
        "        add_to_dict(second_order, (token_2, token_1), token)"
      ],
      "metadata": {
        "id": "X5aJ_Acyzf13"
      },
      "execution_count": 58,
      "outputs": []
    },
    {
      "cell_type": "code",
      "source": [
        "initial_total = sum(initial.values())\n",
        "for token, count in initial.items():\n",
        "  initial[token]=  count/initial_total"
      ],
      "metadata": {
        "id": "wlgfH0wRzh2-"
      },
      "execution_count": 59,
      "outputs": []
    },
    {
      "cell_type": "code",
      "source": [
        "for t1, tl in first_order.items():\n",
        "  first_order[t1] = list_to_predict(tl)\n",
        "\n",
        "for t2, tl in second_order.items():\n",
        "  second_order[t2] = list_to_predict(tl)"
      ],
      "metadata": {
        "id": "bkd2VN-bzmjU"
      },
      "execution_count": 60,
      "outputs": []
    },
    {
      "cell_type": "code",
      "source": [
        "generate()"
      ],
      "metadata": {
        "colab": {
          "base_uri": "https://localhost:8080/"
        },
        "id": "ygbJI0vdzrH7",
        "outputId": "1635b35a-9540-4895-e520-70f06cf0dc8c"
      },
      "execution_count": 61,
      "outputs": [
        {
          "output_type": "stream",
          "name": "stdout",
          "text": [
            "incertain lookers on what occasion god he knows no more\n",
            "kings it makes men hate one another lends content\n",
            "and bid false edward thy supposed king\n",
            "i love the fundamental part of spain\n",
            "my lord cobham\n",
            "did not oertake his bad intent\n",
            "upon the stroke of death and more\n",
            "and pluck out his eyes do hate thee what thou hast years upon thee\n",
            "a sickness caught of me\n",
            "that monthly changes in her kindreds vault\n",
            "but to her consent is wanting\n",
            "see where she comes to years\n"
          ]
        }
      ]
    }
  ]
}