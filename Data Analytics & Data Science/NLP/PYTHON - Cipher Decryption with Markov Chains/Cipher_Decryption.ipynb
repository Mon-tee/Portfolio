{
  "nbformat": 4,
  "nbformat_minor": 0,
  "metadata": {
    "colab": {
      "provenance": [],
      "gpuType": "T4"
    },
    "kernelspec": {
      "name": "python3",
      "display_name": "Python 3"
    },
    "accelerator": "GPU"
  },
  "cells": [
    {
      "cell_type": "code",
      "source": [],
      "metadata": {
        "id": "l00zjabI3d5C"
      },
      "execution_count": null,
      "outputs": []
    },
    {
      "cell_type": "code",
      "metadata": {
        "id": "4H0xn7EGGg_m",
        "colab": {
          "base_uri": "https://localhost:8080/"
        },
        "outputId": "9e9580f2-2c4f-4537-d795-ad2880b1b9c7"
      },
      "source": [
        "!wget https://www.gutenberg.org/files/2701/old/moby10b.txt"
      ],
      "execution_count": null,
      "outputs": [
        {
          "output_type": "stream",
          "name": "stdout",
          "text": [
            "--2024-05-08 04:22:24--  https://www.gutenberg.org/files/2701/old/moby10b.txt\n",
            "Resolving www.gutenberg.org (www.gutenberg.org)... 152.19.134.47, 2610:28:3090:3000:0:bad:cafe:47\n",
            "Connecting to www.gutenberg.org (www.gutenberg.org)|152.19.134.47|:443... connected.\n",
            "HTTP request sent, awaiting response... 200 OK\n",
            "Length: 1256167 (1.2M) [text/plain]\n",
            "Saving to: ‘moby10b.txt.4’\n",
            "\n",
            "moby10b.txt.4       100%[===================>]   1.20M  3.37MB/s    in 0.4s    \n",
            "\n",
            "2024-05-08 04:22:25 (3.37 MB/s) - ‘moby10b.txt.4’ saved [1256167/1256167]\n",
            "\n"
          ]
        }
      ]
    },
    {
      "cell_type": "code",
      "metadata": {
        "id": "5XgKTMRwUHu6"
      },
      "source": [
        "import numpy as np\n",
        "import matplotlib.pyplot as plt\n",
        "\n",
        "import string\n",
        "import random\n",
        "import re\n",
        "import requests\n",
        "import os\n",
        "import textwrap"
      ],
      "execution_count": null,
      "outputs": []
    },
    {
      "cell_type": "code",
      "metadata": {
        "id": "zMrtqw5DUNp3"
      },
      "source": [
        "letters1 = list(string.ascii_lowercase)\n",
        "letters2 = list(string.ascii_lowercase)\n",
        "\n",
        "true_mapping = {}\n",
        "\n",
        "random.shuffle(letters2)\n",
        "\n",
        "for k, v in zip(letters1, letters2):\n",
        "  true_mapping[k] = v"
      ],
      "execution_count": null,
      "outputs": []
    },
    {
      "cell_type": "code",
      "metadata": {
        "id": "IyAGzd5iUQ_W"
      },
      "source": [
        "markov_matrix_3 = np.ones((26, 26, 26, 26))\n",
        "\n",
        "markov_matrix_2 = np.ones((26, 26, 26))\n",
        "\n",
        "markov_matrix_1 = np.ones((26, 26))\n",
        "\n",
        "pi = np.zeros(26)\n",
        "\n",
        "def update_transition(ch_1, ch_2=None, ch_3=None, ch_4=None):\n",
        "    i = ord(ch_1) - 97\n",
        "    if ch_2 is not None:\n",
        "        j = ord(ch_2) - 97\n",
        "        markov_matrix_1[i, j] += 1\n",
        "        if ch_3 is not None:\n",
        "            k = ord(ch_3) - 97\n",
        "            markov_matrix_2[i, j, k] += 1\n",
        "            if ch_4 is not None:\n",
        "                l = ord(ch_4) - 97\n",
        "                markov_matrix_3[i, j, k, l] += 1\n",
        "\n",
        "def update_pi(ch):\n",
        "  i = ord(ch) - 97\n",
        "  pi[i] += 1\n",
        "\n",
        "def get_word_prob(word):\n",
        "    i = ord(word[0]) - 97\n",
        "    if pi[i] == 0:\n",
        "        return -1e5  # Reduced penalty for unknown starting characters\n",
        "\n",
        "    logp = np.log(pi[i])\n",
        "\n",
        "    if len(word) > 1:\n",
        "        for idx in range(1, len(word)):\n",
        "            j = ord(word[idx]) - 97\n",
        "            logp += np.log(markov_matrix_1[i, j]) if markov_matrix_1[i, j] > 0 else -1e5\n",
        "            i = j\n",
        "\n",
        "    if len(word) > 2:\n",
        "        for idx in range(2, len(word)):\n",
        "            j = ord(word[idx - 1]) - 97\n",
        "            k = ord(word[idx]) - 97\n",
        "            logp += np.log(markov_matrix_2[i, j, k]) if markov_matrix_2[i, j, k] > 0 else -1e5\n",
        "            i = j\n",
        "\n",
        "    if len(word) > 3:\n",
        "        for idx in range(3, len(word)):\n",
        "            j = ord(word[idx - 2]) - 97\n",
        "            k = ord(word[idx - 1]) - 97\n",
        "            l = ord(word[idx]) - 97\n",
        "            logp += np.log(markov_matrix_3[i, j, k, l]) if markov_matrix_3[i, j, k, l] > 0 else -1e5\n",
        "            i = j\n",
        "\n",
        "    return logp\n",
        "\n",
        "def get_sequence_prob(words):\n",
        "  if type(words) == str:\n",
        "    words = words.split()\n",
        "\n",
        "  logp = 0\n",
        "  for word in words:\n",
        "    logp += get_word_prob(word)\n",
        "  return logp"
      ],
      "execution_count": null,
      "outputs": []
    },
    {
      "cell_type": "code",
      "metadata": {
        "id": "PxacIxtyUZFd",
        "outputId": "6afbf23e-2e07-41a6-ca42-7ed7edee3afb",
        "colab": {
          "base_uri": "https://localhost:8080/"
        }
      },
      "source": [
        "regex = re.compile('[^a-zA-Z]')\n",
        "\n",
        "for line in open('/content/moby10b.txt'):\n",
        "    line = line.rstrip()\n",
        "\n",
        "    if line:\n",
        "        line = regex.sub(' ', line)\n",
        "        tokens = line.lower().split()\n",
        "\n",
        "        for token in tokens:\n",
        "            if len(token) >= 1:\n",
        "                ch_0 = token[0]\n",
        "                update_pi(ch_0)\n",
        "\n",
        "                if len(token) >= 2:\n",
        "                    for idx in range(1, len(token)):\n",
        "                        ch_1 = token[idx]\n",
        "                        update_transition(ch_0, ch_1)\n",
        "                        ch_0 = ch_1\n",
        "\n",
        "                if len(token) >= 3:\n",
        "                    for idx in range(2, len(token)):\n",
        "                        ch_1 = token[idx - 1]\n",
        "                        ch_2 = token[idx]\n",
        "                        update_transition(ch_0, ch_1, ch_2)\n",
        "                        ch_0 = ch_1\n",
        "\n",
        "                if len(token) >= 4:\n",
        "                    for idx in range(3, len(token)):\n",
        "                        ch_1 = token[idx - 2]\n",
        "                        ch_2 = token[idx - 1]\n",
        "                        ch_3 = token[idx]\n",
        "                        update_transition(ch_0, ch_1, ch_2, ch_3)\n",
        "                        ch_0 = ch_1\n",
        "\n",
        "pi /= pi.sum()\n",
        "markov_matrix_1 /= markov_matrix_1.sum(axis=1, keepdims=True)\n",
        "markov_matrix_2 /= markov_matrix_2.sum(axis=(1, 2), keepdims=True)\n",
        "markov_matrix_3 /= markov_matrix_3.sum(axis=(1, 2, 3), keepdims=True)\n",
        "\n",
        "print(pi)"
      ],
      "execution_count": null,
      "outputs": [
        {
          "output_type": "stream",
          "name": "stdout",
          "text": [
            "[1.09297400e-01 5.18139885e-02 3.89557377e-02 2.71860160e-02\n",
            " 1.86773463e-02 3.85021839e-02 1.65275012e-02 6.33115779e-02\n",
            " 6.70443258e-02 3.91416947e-03 4.43575637e-03 2.82337254e-02\n",
            " 3.90600551e-02 2.22785637e-02 6.54568874e-02 2.85557486e-02\n",
            " 3.27919413e-03 1.81194751e-02 9.23299513e-02 1.63896209e-01\n",
            " 1.22822375e-02 7.44281820e-03 6.74026333e-02 4.08198439e-05\n",
            " 1.17923993e-02 1.63279376e-04]\n"
          ]
        }
      ]
    },
    {
      "cell_type": "code",
      "metadata": {
        "id": "3FxNj6V2UdM3"
      },
      "source": [
        "\n",
        "\n",
        "original_message = '''I then lounged down the street and found,\n",
        "as I expected, that there was a mews in a lane which runs down\n",
        "by one wall of the garden. I lent the ostlers a hand in rubbing\n",
        "down their horses, and received in exchange twopence, a glass of\n",
        "half-and-half, two fills of shag tobacco, and as much information\n",
        "as I could desire about Miss Adler, to say nothing of half a dozen\n",
        "other people in the neighbourhood in whom I was not in the least\n",
        "interested, but whose biographies I was compelled to listen to.'''"
      ],
      "execution_count": null,
      "outputs": []
    },
    {
      "cell_type": "code",
      "metadata": {
        "id": "LRuQ15YJUgDm"
      },
      "source": [
        "def encode_message(msg):\n",
        "    msg = msg.lower()\n",
        "    msg = regex.sub(' ', msg)\n",
        "\n",
        "    coded_msg = []\n",
        "    for ch in msg:\n",
        "        coded_ch = ch\n",
        "        if ch in true_mapping:\n",
        "            coded_ch = true_mapping[ch]\n",
        "        coded_msg.append(coded_ch)\n",
        "\n",
        "    return ''.join(coded_msg)\n",
        "\n",
        "encoded_message = encode_message(original_message)\n",
        "\n",
        "\n",
        "def decode_message(msg, word_map):\n",
        "    decoded_msg = []\n",
        "    for ch in msg:\n",
        "        decoded_ch = ch\n",
        "        if ch in word_map:\n",
        "            decoded_ch = word_map[ch]\n",
        "        decoded_msg.append(decoded_ch)\n",
        "\n",
        "    return ''.join(decoded_msg)"
      ],
      "execution_count": null,
      "outputs": []
    },
    {
      "cell_type": "code",
      "metadata": {
        "id": "Ogy2tFp2UjEW"
      },
      "source": [
        "def initialize_dna_pool(pool_size, num_chars):\n",
        "    dna_pool = []\n",
        "    for _ in range(pool_size):\n",
        "        dna = random.sample(letters2, num_chars)\n",
        "        dna_pool.append(dna)\n",
        "    return dna_pool\n",
        "\n",
        "def crossover(dna1, dna2):\n",
        "    cut = np.random.randint(1, len(dna1) - 1)\n",
        "    child1 = dna1[:cut] + [x for x in dna2 if x not in dna1[:cut]]\n",
        "    child2 = dna2[:cut] + [x for x in dna1 if x not in dna2[:cut]]\n",
        "    return child1, child2"
      ],
      "execution_count": null,
      "outputs": []
    },
    {
      "cell_type": "code",
      "metadata": {
        "id": "rHjSLs-OU33M"
      },
      "source": [
        "# Function to evolve offspring using crossover and mutation\n",
        "def evolve_offspring(dna_pool, n_children, mutation_prob=0.2):\n",
        "    offspring = []\n",
        "    num_parents = len(dna_pool)\n",
        "\n",
        "    # Elitism: Keep a portion of the best parents\n",
        "    elite = sorted(dna_pool, key=lambda x: np.random.random())[:3]\n",
        "    offspring.extend(elite)\n",
        "\n",
        "    # Generate offspring using crossover\n",
        "    for _ in range(n_children):\n",
        "        parent1, parent2 = random.sample(dna_pool, 2)\n",
        "        child1, child2 = crossover(parent1, parent2)\n",
        "        offspring.append(child1)\n",
        "        offspring.append(child2)\n",
        "\n",
        "    # Introduce mutations\n",
        "    for child in offspring:\n",
        "        if np.random.random() < mutation_prob:\n",
        "            j, k = np.random.choice(len(child), 2, replace=False)\n",
        "            child[j], child[k] = child[k], child[j]\n",
        "\n",
        "    return offspring"
      ],
      "execution_count": null,
      "outputs": []
    },
    {
      "cell_type": "code",
      "metadata": {
        "id": "C6lnKzJkUnzn",
        "outputId": "01f90435-c34d-48da-88de-ae9ae5b0eea0",
        "colab": {
          "base_uri": "https://localhost:8080/"
        }
      },
      "source": [
        "# Genetic algorithm with early stopping\n",
        "num_iters = 100000\n",
        "early_stop_patience = 1000  # Stop after 10 iterations with no improvement\n",
        "no_improvement_count = 0\n",
        "scores = np.zeros(num_iters)\n",
        "best_dna = None\n",
        "best_map = None\n",
        "best_score = float('-inf')\n",
        "previous_best_score = float('-inf')\n",
        "\n",
        "# Initialize the DNA pool\n",
        "dna_pool = initialize_dna_pool(40, len(letters2))\n",
        "\n",
        "for i in range(num_iters):\n",
        "    if i > 0:\n",
        "        dna_pool = evolve_offspring(dna_pool, 10, mutation_prob=0.2)\n",
        "\n",
        "    dna2score = {}\n",
        "    for dna in dna_pool:\n",
        "        current_map = dict(zip(letters1, dna))\n",
        "        decoded_message = decode_message(encoded_message, current_map)\n",
        "        score = get_sequence_prob(decoded_message)\n",
        "\n",
        "        dna2score[''.join(dna)] = score\n",
        "\n",
        "        if score > best_score:\n",
        "            best_dna = dna\n",
        "            best_map = current_map\n",
        "            best_score = score\n",
        "\n",
        "    scores[i] = np.mean(list(dna2score.values()))\n",
        "\n",
        "    sorted_dna = sorted(dna2score.items(), key=lambda x: x[1], reverse=True)\n",
        "    dna_pool = [list(k) for k, v in sorted_dna[:10]]\n",
        "\n",
        "    if i % 200 == 0:\n",
        "        print(f\"iter: {i}, score: {scores[i]}, best so far: {best_score}\")\n",
        "\n",
        "    # Early stopping condition\n",
        "    if best_score == previous_best_score:\n",
        "        no_improvement_count += 1\n",
        "    else:\n",
        "        no_improvement_count = 0  # Reset the counter if improvement is seen\n",
        "\n",
        "    previous_best_score = best_score\n",
        "\n",
        "    if no_improvement_count >= early_stop_patience:\n",
        "        print(f\"Early stopping at iteration {i} with best score {best_score}\")\n",
        "        break\n",
        "\n",
        "# Output the best mapping found\n",
        "print(best_map)"
      ],
      "execution_count": null,
      "outputs": [
        {
          "output_type": "stream",
          "name": "stdout",
          "text": [
            "iter: 0, score: -5221.360687706185, best so far: -4811.381303295718\n",
            "iter: 200, score: -4022.1237748924727, best so far: -3786.348360097158\n",
            "iter: 400, score: -3733.9853648051335, best so far: -3430.22973534529\n",
            "iter: 600, score: -4113.252823898151, best so far: -3430.22973534529\n",
            "iter: 800, score: -3887.101816906314, best so far: -3430.22973534529\n",
            "iter: 1000, score: -3303.6510893462573, best so far: -3068.1250083416153\n",
            "iter: 1200, score: -3669.8113294823947, best so far: -3048.4306846869135\n",
            "iter: 1400, score: -4187.551460624831, best so far: -3048.4306846869135\n",
            "iter: 1600, score: -3917.0324168650072, best so far: -3048.4306846869135\n",
            "iter: 1800, score: -3883.915632080538, best so far: -3048.4306846869135\n",
            "iter: 2000, score: -4169.219788061865, best so far: -3048.4306846869135\n",
            "Early stopping at iteration 2017 with best score -3048.4306846869135\n",
            "{'a': 'q', 'b': 't', 'c': 'd', 'd': 'j', 'e': 'w', 'f': 'z', 'g': 'k', 'h': 'x', 'i': 'y', 'j': 'm', 'k': 'g', 'l': 's', 'm': 'e', 'n': 'o', 'o': 'p', 'p': 'a', 'q': 'r', 'r': 'h', 's': 'u', 't': 'f', 'u': 'b', 'v': 'v', 'w': 'l', 'x': 'i', 'y': 'n', 'z': 'c'}\n"
          ]
        }
      ]
    },
    {
      "cell_type": "code",
      "metadata": {
        "id": "TBI4r2roUqP9",
        "outputId": "ddce64ad-30f5-40b3-f98a-d61c09f1879e",
        "colab": {
          "base_uri": "https://localhost:8080/"
        }
      },
      "source": [
        "decoded_message = decode_message(encoded_message, best_map)\n",
        "\n",
        "print(\"LL of decoded message:\", get_sequence_prob(decoded_message))\n",
        "print(\"LL of true message:\", get_sequence_prob(regex.sub(' ', original_message.lower())))\n",
        "\n",
        "\n",
        "for true, v in true_mapping.items():\n",
        "  pred = best_map[v]\n",
        "  if true != pred:\n",
        "    print(\"true: %s, pred: %s\" % (true, pred))"
      ],
      "execution_count": null,
      "outputs": [
        {
          "output_type": "stream",
          "name": "stdout",
          "text": [
            "LL of decoded message: -3048.4306846869135\n",
            "LL of true message: -2838.085059479013\n",
            "true: c, pred: g\n",
            "true: g, pred: c\n",
            "true: j, pred: z\n",
            "true: k, pred: j\n",
            "true: m, pred: k\n",
            "true: p, pred: m\n",
            "true: z, pred: p\n"
          ]
        }
      ]
    },
    {
      "cell_type": "code",
      "metadata": {
        "id": "cZqTut0mU-6S",
        "outputId": "d8241a0a-de69-4b50-83f4-f3fdb67174cd",
        "colab": {
          "base_uri": "https://localhost:8080/"
        }
      },
      "source": [
        "print(\"Decoded message:\\n\", textwrap.fill(decoded_message))\n",
        "\n",
        "print(\"\\nTrue message:\\n\", original_message)"
      ],
      "execution_count": null,
      "outputs": [
        {
          "output_type": "stream",
          "name": "stdout",
          "text": [
            "Decoded message:\n",
            " i then lounced down the street and found  as i exmegted  that there\n",
            "was a kews in a lane whigh runs down by one wall of the carden  i lent\n",
            "the ostlers a hand in rubbinc down their horses  and regeived in\n",
            "exghance twomenge  a class of half and half  two fills of shac tobaggo\n",
            "and as kugh inforkation as i gould desire about kiss adler  to say\n",
            "nothinc of half a dopen other meomle in the neichbourhood in whok i\n",
            "was not in the least interested  but whose biocramhies i was gokmelled\n",
            "to listen to\n",
            "\n",
            "True message:\n",
            " I then lounged down the street and found,\n",
            "as I expected, that there was a mews in a lane which runs down\n",
            "by one wall of the garden. I lent the ostlers a hand in rubbing\n",
            "down their horses, and received in exchange twopence, a glass of\n",
            "half-and-half, two fills of shag tobacco, and as much information\n",
            "as I could desire about Miss Adler, to say nothing of half a dozen\n",
            "other people in the neighbourhood in whom I was not in the least\n",
            "interested, but whose biographies I was compelled to listen to.\n"
          ]
        }
      ]
    },
    {
      "cell_type": "code",
      "metadata": {
        "id": "3CycJAYFVfoW",
        "outputId": "31762095-06f4-4477-93cf-c394243837b6",
        "colab": {
          "base_uri": "https://localhost:8080/",
          "height": 472
        }
      },
      "source": [
        "plt.plot(scores[:i+ 1])\n",
        "plt.xlabel('Iteration')\n",
        "plt.ylabel('Average Score')\n",
        "plt.title('Genetic Algorithm Score Progress')\n",
        "plt.show()"
      ],
      "execution_count": null,
      "outputs": [
        {
          "output_type": "display_data",
          "data": {
            "text/plain": [
              "<Figure size 640x480 with 1 Axes>"
            ],
            "image/png": "[encoded data removed]"
          },
          "metadata": {}
        }
      ]
    }
  ]
}