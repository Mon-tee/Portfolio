{
  "nbformat": 4,
  "nbformat_minor": 0,
  "metadata": {
    "colab": {
      "provenance": []
    },
    "kernelspec": {
      "name": "python3",
      "display_name": "Python 3"
    },
    "language_info": {
      "name": "python"
    }
  },
  "cells": [
    {
      "cell_type": "code",
      "source": [
        "import numpy as np\n",
        "import pandas as pd\n",
        "import nltk\n",
        "import textwrap\n",
        "from nltk.corpus import stopwords\n",
        "from nltk import word_tokenize\n",
        "from nltk.stem import WordNetLemmatizer, PorterStemmer\n",
        "from sklearn.feature_extraction.text import TfidfVectorizer\n",
        "from sklearn.metrics.pairwise import cosine_similarity\n"
      ],
      "metadata": {
        "id": "pXNUtzE_N1X4"
      },
      "execution_count": 1,
      "outputs": []
    },
    {
      "cell_type": "code",
      "source": [
        "nltk.download('punkt')\n",
        "nltk.download('stopwords')\n",
        "nltk.download('wordnet')"
      ],
      "metadata": {
        "colab": {
          "base_uri": "https://localhost:8080/"
        },
        "id": "7_5SGVxDOChA",
        "outputId": "13bcfa78-a4ad-4bac-92d3-59b7349117e4"
      },
      "execution_count": 2,
      "outputs": [
        {
          "output_type": "stream",
          "name": "stderr",
          "text": [
            "[nltk_data] Downloading package punkt to /root/nltk_data...\n",
            "[nltk_data]   Unzipping tokenizers/punkt.zip.\n",
            "[nltk_data] Downloading package stopwords to /root/nltk_data...\n",
            "[nltk_data]   Unzipping corpora/stopwords.zip.\n",
            "[nltk_data] Downloading package wordnet to /root/nltk_data...\n"
          ]
        },
        {
          "output_type": "execute_result",
          "data": {
            "text/plain": [
              "True"
            ]
          },
          "metadata": {},
          "execution_count": 2
        }
      ]
    },
    {
      "cell_type": "code",
      "source": [
        "nltk_resources = ['punkt', 'stopwords']\n",
        "for resource in nltk_resources:\n",
        "    nltk.download(resource, quiet=True)\n"
      ],
      "metadata": {
        "id": "mM2PPQKkPC9q"
      },
      "execution_count": 3,
      "outputs": []
    },
    {
      "cell_type": "code",
      "execution_count": 4,
      "metadata": {
        "id": "0qtEDy2azbjC"
      },
      "outputs": [],
      "source": [
        "def summarize_text(text, num_sentences=5, wrap_width=80):\n",
        "\n",
        "    sents = nltk.sent_tokenize(text)\n",
        "\n",
        "    stop_words = set(stopwords.words('english'))\n",
        "    lemmatizer = WordNetLemmatizer()\n",
        "\n",
        "    def preprocess(sentence):\n",
        "        tokens = word_tokenize(sentence.lower())\n",
        "        lemmatized = [lemmatizer.lemmatize(token) for token in tokens if token.isalpha() and token not in stop_words]\n",
        "        return ' '.join(lemmatized)\n",
        "\n",
        "    vectorizer = TfidfVectorizer()\n",
        "    tfidf_matrix = vectorizer.fit_transform([preprocess(sentence) for sentence in sents])\n",
        "\n",
        "    doc_vector = np.asarray(tfidf_matrix.sum(axis=0)).reshape(-1)\n",
        "    scores = cosine_similarity(tfidf_matrix, doc_vector.reshape(1, -1))\n",
        "\n",
        "    sorted_indices = np.argsort(scores.ravel())[-num_sentences:][::-1]\n",
        "    selected_sentences = [sents[index] for index in sorted_indices]\n",
        "\n",
        "    wrapped_sentences = [textwrap.fill(sentence, width=wrap_width) for sentence in selected_sentences]\n",
        "    return wrapped_sentences"
      ]
    },
    {
      "cell_type": "code",
      "source": [
        "text = \"\"\"\n",
        "Americans overwhelmingly say they're \"doing at least OK financially,\" but most remain worried about rising prices, and 1 in 6 says they have bills they can't pay, according to a report released Tuesday by the Federal Reserve.\n",
        "\n",
        "Each year the Fed surveys thousands of people about their household finances, including income, savings and expenses. This year's snapshot shows family budgets generally held steady over the last year, but they're not as solid as they were two years ago, when pandemic relief payments helped pad people's bank accounts and inflation was just beginning to take hold.\n",
        "\n",
        "The survey, conducted last fall, found that 72% of adults are living comfortably financially or at least doing OK. That's down from 73% in 2022 and 78% in 2021.\n",
        "\n",
        "One group that saw a bigger drop in well-being was parents. Just 64% of those with children under 18 said they were doing at least OK — down from 75% in 2021. Child care is a significant expense for many families, often costing at least half as much as their housing. The median monthly cost for child care was $800, or $1,100 for those using more than 20 hours a week.\n",
        "\n",
        "About a third of those surveyed said their monthly income had increased during the year, while a slightly higher percentage — 38% — said their monthly expenses had grown.\n",
        "\n",
        "Although inflation is lower now than it was a year ago and less than half what it was in 2022, two-thirds of Americans say rising prices have made their financial situation worse, including 19% who say they're much worse off. About 1 in 3 people said inflation had little effect on their family finances.\n",
        "\n",
        "Unsurprisingly, lower-income households reported more financial hardships, such as an inability to pay their bills every month or skipping meals or medical care. Overall, 48% of those polled said they had money left over after paying expenses, while 17% said they had unpaid bills in the previous month.\n",
        "\n",
        "Faced with an unexpected $400 expense, 63% of survey respondents said they could cover it with savings. That's unchanged from 2022 but down slightly from 2021. About 1 in 8 people said they would be unable to handle such an expense by any means.\n",
        "\n",
        "Double-digit price increases in home insurance\n",
        "This year's report included a new question about home insurance, which has seen double-digit price increases in the last year. While the vast majority of homeowners have insurance, some of the most vulnerable people do not, including more than 20% of low-income families in the South.\n",
        "\n",
        "\"This perspective continues to help the Federal Reserve better understand how families are coping with the ongoing economic challenges they face,\" Federal Reserve Board Gov. Michelle Bowman said in a statement.\n",
        "\n",
        "\"\"\""
      ],
      "metadata": {
        "id": "8-RJQ4ZUQIoR"
      },
      "execution_count": 5,
      "outputs": []
    },
    {
      "cell_type": "code",
      "source": [
        "\n",
        "summary = summarize_text(text, num_sentences=5)\n",
        "for sentence in summary:\n",
        "    print(sentence)\n",
        "    print()"
      ],
      "metadata": {
        "colab": {
          "base_uri": "https://localhost:8080/"
        },
        "id": "v_jPv8x-QPzV",
        "outputId": "033e556f-f1b4-4e69-a7c0-0a2ccbce82c3"
      },
      "execution_count": 7,
      "outputs": [
        {
          "output_type": "stream",
          "name": "stdout",
          "text": [
            "Each year the Fed surveys thousands of people about their household finances,\n",
            "including income, savings and expenses.\n",
            "\n",
            "Just 64% of those with children under 18 said they were doing at least OK — down\n",
            "from 75% in 2021.\n",
            "\n",
            "About a third of those surveyed said their monthly income had increased during\n",
            "the year, while a slightly higher percentage — 38% — said their monthly expenses\n",
            "had grown.\n",
            "\n",
            "About 1 in 3 people said inflation had little effect on their family finances.\n",
            "\n",
            "Child care is a significant expense for many families, often costing at least\n",
            "half as much as their housing.\n",
            "\n"
          ]
        }
      ]
    }
  ]
}