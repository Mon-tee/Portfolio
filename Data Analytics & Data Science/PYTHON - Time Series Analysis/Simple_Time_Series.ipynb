{
  "nbformat": 4,
  "nbformat_minor": 0,
  "metadata": {
    "colab": {
      "provenance": []
    },
    "kernelspec": {
      "name": "python3",
      "display_name": "Python 3"
    },
    "language_info": {
      "name": "python"
    }
  },
  "cells": [
    {
      "cell_type": "markdown",
      "source": [
        "# DATA SET UP AND PREPROCESSING"
      ],
      "metadata": {
        "id": "iYspNTaUalg4"
      }
    },
    {
      "cell_type": "markdown",
      "source": [
        "## SET UP"
      ],
      "metadata": {
        "id": "BIQWVx9abt5F"
      }
    },
    {
      "cell_type": "code",
      "source": [
        "import numpy as np\n",
        "import pandas as pd\n",
        "import matplotlib.pyplot as plt\n",
        "import tensorflow as tf\n",
        "import os\n",
        "from tensorflow.keras import layers"
      ],
      "metadata": {
        "id": "XSLt_1qHaeKf"
      },
      "execution_count": 2,
      "outputs": []
    },
    {
      "cell_type": "code",
      "execution_count": 3,
      "metadata": {
        "id": "vIJixOFkZx8B"
      },
      "outputs": [],
      "source": [
        "def ts_plot(timesteps, values, format='.', start=0, end=None, label=None):\n",
        "  plt.plot(timesteps[start:end], values[start:end], format, label=label)\n",
        "  plt.xlabel(\"Date\")\n",
        "  plt.ylabel(\"Price\")\n",
        "  if label:\n",
        "    plt.legend(fontsize=14)\n",
        "  plt.grid(True)"
      ]
    },
    {
      "cell_type": "code",
      "source": [
        "def eval_pred(y_true, y_pred):\n",
        "    y_true = tf.cast(y_true, dtype=tf.float32)\n",
        "    y_pred = tf.cast(y_pred, dtype=tf.float32)\n",
        "\n",
        "    mae = tf.reduce_mean(tf.keras.metrics.mean_absolute_error(y_true, y_pred))\n",
        "\n",
        "    mse = tf.reduce_mean(tf.keras.metrics.mean_squared_error(y_true, y_pred))\n",
        "    rmse = tf.sqrt(mse)\n",
        "\n",
        "    mape = tf.reduce_mean(tf.keras.metrics.mean_absolute_percentage_error(y_true, y_pred))\n",
        "\n",
        "    naive_forecast_errors = tf.abs(y_true[1:] - y_true[:-1])\n",
        "    mase = mae / tf.reduce_mean(naive_forecast_errors)\n",
        "\n",
        "    return {\"mae\": mae.numpy(), \"mse\": mse.numpy(), \"rmse\": rmse.numpy(),\n",
        "            \"mape\": mape.numpy(), \"mase\": mase.numpy()}"
      ],
      "metadata": {
        "id": "PY1fJgfxbiNB"
      },
      "execution_count": 4,
      "outputs": []
    },
    {
      "cell_type": "markdown",
      "source": [
        "## DATA PREPROCESSING"
      ],
      "metadata": {
        "id": "op_ULzlqbxI9"
      }
    },
    {
      "cell_type": "code",
      "source": [
        "raw_data = pd.read_csv('/content/ZHVI.csv')\n",
        "raw_data.head()"
      ],
      "metadata": {
        "colab": {
          "base_uri": "https://localhost:8080/",
          "height": 359
        },
        "id": "8CIFQlu_cZc7",
        "outputId": "3f5278e4-0122-4f14-d12c-2fe3884319fe"
      },
      "execution_count": 6,
      "outputs": [
        {
          "output_type": "execute_result",
          "data": {
            "text/plain": [
              "   Unnamed: 0       Virginia     California        Florida       New York  \\\n",
              "0  2000-01-01  124371.614130  194462.552900  107057.833479  152120.944588   \n",
              "1  2000-02-01  124693.442114  195116.199583  107289.730712  152662.644581   \n",
              "2  2000-03-01  125034.655325  195998.782666  107570.836383  153184.118182   \n",
              "3  2000-04-01  125679.434810  197914.607377  108142.251910  154305.666135   \n",
              "4  2000-05-01  126301.898777  200141.465003  108758.461980  155466.067349   \n",
              "\n",
              "      New Jersey          Texas       Michigan  Massachusetts        Arizona  \\\n",
              "0  168534.319204  112076.354992  116176.374391  195547.631623  135107.474369   \n",
              "1  168988.628589  112137.260178  116240.361564  196200.500116  135352.193725   \n",
              "2  169422.119780  112166.800147  116474.623012  196977.310600  135667.152030   \n",
              "3  170382.533354  112313.409636  116941.270896  198507.299696  136310.278738   \n",
              "4  171361.599479  112408.356239  117629.440332  200163.437543  137039.271958   \n",
              "\n",
              "   ...      Kentucky      Missouri        Kansas       Delaware  Wyoming  \\\n",
              "0  ...  84394.192674  96502.722735  89330.636352  148751.162949      NaN   \n",
              "1  ...  84437.764981  96615.831362  89348.172125  148982.585620      NaN   \n",
              "2  ...  84517.043011  96785.173336  89451.483005  149270.727677      NaN   \n",
              "3  ...  84714.056168  97172.251080  89605.925580  149929.702032      NaN   \n",
              "4  ...  84975.892121  97672.243340  89838.733934  150681.291613      NaN   \n",
              "\n",
              "       Oklahoma   South Dakota       Nebraska          Iowa           Ohio  \n",
              "0  81727.793253  107546.972640  115280.517090  90661.081826  105405.254590  \n",
              "1  81761.506175  107318.470853  115464.797762  90834.330897  105469.666762  \n",
              "2  81918.652906  106998.699510  115635.592052  90997.885282  105567.351236  \n",
              "3  82204.808865  106567.682035  115900.716616  91351.158279  105854.597144  \n",
              "4  82589.160818  106388.366170  116035.163796  91741.470391  106292.575723  \n",
              "\n",
              "[5 rows x 52 columns]"
            ],
            "text/html": [
              "\n",
              "  <div id=\"df-d5552e9c-06fc-4e67-b883-741df3060319\" class=\"colab-df-container\">\n",
              "    <div>\n",
              "<style scoped>\n",
              "    .dataframe tbody tr th:only-of-type {\n",
              "        vertical-align: middle;\n",
              "    }\n",
              "\n",
              "    .dataframe tbody tr th {\n",
              "        vertical-align: top;\n",
              "    }\n",
              "\n",
              "    .dataframe thead th {\n",
              "        text-align: right;\n",
              "    }\n",
              "</style>\n",
              "<table border=\"1\" class=\"dataframe\">\n",
              "  <thead>\n",
              "    <tr style=\"text-align: right;\">\n",
              "      <th></th>\n",
              "      <th>Unnamed: 0</th>\n",
              "      <th>Virginia</th>\n",
              "      <th>California</th>\n",
              "      <th>Florida</th>\n",
              "      <th>New York</th>\n",
              "      <th>New Jersey</th>\n",
              "      <th>Texas</th>\n",
              "      <th>Michigan</th>\n",
              "      <th>Massachusetts</th>\n",
              "      <th>Arizona</th>\n",
              "      <th>...</th>\n",
              "      <th>Kentucky</th>\n",
              "      <th>Missouri</th>\n",
              "      <th>Kansas</th>\n",
              "      <th>Delaware</th>\n",
              "      <th>Wyoming</th>\n",
              "      <th>Oklahoma</th>\n",
              "      <th>South Dakota</th>\n",
              "      <th>Nebraska</th>\n",
              "      <th>Iowa</th>\n",
              "      <th>Ohio</th>\n",
              "    </tr>\n",
              "  </thead>\n",
              "  <tbody>\n",
              "    <tr>\n",
              "      <th>0</th>\n",
              "      <td>2000-01-01</td>\n",
              "      <td>124371.614130</td>\n",
              "      <td>194462.552900</td>\n",
              "      <td>107057.833479</td>\n",
              "      <td>152120.944588</td>\n",
              "      <td>168534.319204</td>\n",
              "      <td>112076.354992</td>\n",
              "      <td>116176.374391</td>\n",
              "      <td>195547.631623</td>\n",
              "      <td>135107.474369</td>\n",
              "      <td>...</td>\n",
              "      <td>84394.192674</td>\n",
              "      <td>96502.722735</td>\n",
              "      <td>89330.636352</td>\n",
              "      <td>148751.162949</td>\n",
              "      <td>NaN</td>\n",
              "      <td>81727.793253</td>\n",
              "      <td>107546.972640</td>\n",
              "      <td>115280.517090</td>\n",
              "      <td>90661.081826</td>\n",
              "      <td>105405.254590</td>\n",
              "    </tr>\n",
              "    <tr>\n",
              "      <th>1</th>\n",
              "      <td>2000-02-01</td>\n",
              "      <td>124693.442114</td>\n",
              "      <td>195116.199583</td>\n",
              "      <td>107289.730712</td>\n",
              "      <td>152662.644581</td>\n",
              "      <td>168988.628589</td>\n",
              "      <td>112137.260178</td>\n",
              "      <td>116240.361564</td>\n",
              "      <td>196200.500116</td>\n",
              "      <td>135352.193725</td>\n",
              "      <td>...</td>\n",
              "      <td>84437.764981</td>\n",
              "      <td>96615.831362</td>\n",
              "      <td>89348.172125</td>\n",
              "      <td>148982.585620</td>\n",
              "      <td>NaN</td>\n",
              "      <td>81761.506175</td>\n",
              "      <td>107318.470853</td>\n",
              "      <td>115464.797762</td>\n",
              "      <td>90834.330897</td>\n",
              "      <td>105469.666762</td>\n",
              "    </tr>\n",
              "    <tr>\n",
              "      <th>2</th>\n",
              "      <td>2000-03-01</td>\n",
              "      <td>125034.655325</td>\n",
              "      <td>195998.782666</td>\n",
              "      <td>107570.836383</td>\n",
              "      <td>153184.118182</td>\n",
              "      <td>169422.119780</td>\n",
              "      <td>112166.800147</td>\n",
              "      <td>116474.623012</td>\n",
              "      <td>196977.310600</td>\n",
              "      <td>135667.152030</td>\n",
              "      <td>...</td>\n",
              "      <td>84517.043011</td>\n",
              "      <td>96785.173336</td>\n",
              "      <td>89451.483005</td>\n",
              "      <td>149270.727677</td>\n",
              "      <td>NaN</td>\n",
              "      <td>81918.652906</td>\n",
              "      <td>106998.699510</td>\n",
              "      <td>115635.592052</td>\n",
              "      <td>90997.885282</td>\n",
              "      <td>105567.351236</td>\n",
              "    </tr>\n",
              "    <tr>\n",
              "      <th>3</th>\n",
              "      <td>2000-04-01</td>\n",
              "      <td>125679.434810</td>\n",
              "      <td>197914.607377</td>\n",
              "      <td>108142.251910</td>\n",
              "      <td>154305.666135</td>\n",
              "      <td>170382.533354</td>\n",
              "      <td>112313.409636</td>\n",
              "      <td>116941.270896</td>\n",
              "      <td>198507.299696</td>\n",
              "      <td>136310.278738</td>\n",
              "      <td>...</td>\n",
              "      <td>84714.056168</td>\n",
              "      <td>97172.251080</td>\n",
              "      <td>89605.925580</td>\n",
              "      <td>149929.702032</td>\n",
              "      <td>NaN</td>\n",
              "      <td>82204.808865</td>\n",
              "      <td>106567.682035</td>\n",
              "      <td>115900.716616</td>\n",
              "      <td>91351.158279</td>\n",
              "      <td>105854.597144</td>\n",
              "    </tr>\n",
              "    <tr>\n",
              "      <th>4</th>\n",
              "      <td>2000-05-01</td>\n",
              "      <td>126301.898777</td>\n",
              "      <td>200141.465003</td>\n",
              "      <td>108758.461980</td>\n",
              "      <td>155466.067349</td>\n",
              "      <td>171361.599479</td>\n",
              "      <td>112408.356239</td>\n",
              "      <td>117629.440332</td>\n",
              "      <td>200163.437543</td>\n",
              "      <td>137039.271958</td>\n",
              "      <td>...</td>\n",
              "      <td>84975.892121</td>\n",
              "      <td>97672.243340</td>\n",
              "      <td>89838.733934</td>\n",
              "      <td>150681.291613</td>\n",
              "      <td>NaN</td>\n",
              "      <td>82589.160818</td>\n",
              "      <td>106388.366170</td>\n",
              "      <td>116035.163796</td>\n",
              "      <td>91741.470391</td>\n",
              "      <td>106292.575723</td>\n",
              "    </tr>\n",
              "  </tbody>\n",
              "</table>\n",
              "<p>5 rows × 52 columns</p>\n",
              "</div>\n",
              "    <div class=\"colab-df-buttons\">\n",
              "\n",
              "  <div class=\"colab-df-container\">\n",
              "    <button class=\"colab-df-convert\" onclick=\"convertToInteractive('df-d5552e9c-06fc-4e67-b883-741df3060319')\"\n",
              "            title=\"Convert this dataframe to an interactive table.\"\n",
              "            style=\"display:none;\">\n",
              "\n",
              "  <svg xmlns=\"http://www.w3.org/2000/svg\" height=\"24px\" viewBox=\"0 -960 960 960\">\n",
              "    <path d=\"M120-120v-720h720v720H120Zm60-500h600v-160H180v160Zm220 220h160v-160H400v160Zm0 220h160v-160H400v160ZM180-400h160v-160H180v160Zm440 0h160v-160H620v160ZM180-180h160v-160H180v160Zm440 0h160v-160H620v160Z\"/>\n",
              "  </svg>\n",
              "    </button>\n",
              "\n",
              "  <style>\n",
              "    .colab-df-container {\n",
              "      display:flex;\n",
              "      gap: 12px;\n",
              "    }\n",
              "\n",
              "    .colab-df-convert {\n",
              "      background-color: #E8F0FE;\n",
              "      border: none;\n",
              "      border-radius: 50%;\n",
              "      cursor: pointer;\n",
              "      display: none;\n",
              "      fill: #1967D2;\n",
              "      height: 32px;\n",
              "      padding: 0 0 0 0;\n",
              "      width: 32px;\n",
              "    }\n",
              "\n",
              "    .colab-df-convert:hover {\n",
              "      background-color: #E2EBFA;\n",
              "      box-shadow: 0px 1px 2px rgba(60, 64, 67, 0.3), 0px 1px 3px 1px rgba(60, 64, 67, 0.15);\n",
              "      fill: #174EA6;\n",
              "    }\n",
              "\n",
              "    .colab-df-buttons div {\n",
              "      margin-bottom: 4px;\n",
              "    }\n",
              "\n",
              "    [theme=dark] .colab-df-convert {\n",
              "      background-color: #3B4455;\n",
              "      fill: #D2E3FC;\n",
              "    }\n",
              "\n",
              "    [theme=dark] .colab-df-convert:hover {\n",
              "      background-color: #434B5C;\n",
              "      box-shadow: 0px 1px 3px 1px rgba(0, 0, 0, 0.15);\n",
              "      filter: drop-shadow(0px 1px 2px rgba(0, 0, 0, 0.3));\n",
              "      fill: #FFFFFF;\n",
              "    }\n",
              "  </style>\n",
              "\n",
              "    <script>\n",
              "      const buttonEl =\n",
              "        document.querySelector('#df-d5552e9c-06fc-4e67-b883-741df3060319 button.colab-df-convert');\n",
              "      buttonEl.style.display =\n",
              "        google.colab.kernel.accessAllowed ? 'block' : 'none';\n",
              "\n",
              "      async function convertToInteractive(key) {\n",
              "        const element = document.querySelector('#df-d5552e9c-06fc-4e67-b883-741df3060319');\n",
              "        const dataTable =\n",
              "          await google.colab.kernel.invokeFunction('convertToInteractive',\n",
              "                                                    [key], {});\n",
              "        if (!dataTable) return;\n",
              "\n",
              "        const docLinkHtml = 'Like what you see? Visit the ' +\n",
              "          '<a target=\"_blank\" href=https://colab.research.google.com/notebooks/data_table.ipynb>data table notebook</a>'\n",
              "          + ' to learn more about interactive tables.';\n",
              "        element.innerHTML = '';\n",
              "        dataTable['output_type'] = 'display_data';\n",
              "        await google.colab.output.renderOutput(dataTable, element);\n",
              "        const docLink = document.createElement('div');\n",
              "        docLink.innerHTML = docLinkHtml;\n",
              "        element.appendChild(docLink);\n",
              "      }\n",
              "    </script>\n",
              "  </div>\n",
              "\n",
              "\n",
              "<div id=\"df-c3767b7a-0f64-4953-91a8-d2f3d7062570\">\n",
              "  <button class=\"colab-df-quickchart\" onclick=\"quickchart('df-c3767b7a-0f64-4953-91a8-d2f3d7062570')\"\n",
              "            title=\"Suggest charts\"\n",
              "            style=\"display:none;\">\n",
              "\n",
              "<svg xmlns=\"http://www.w3.org/2000/svg\" height=\"24px\"viewBox=\"0 0 24 24\"\n",
              "     width=\"24px\">\n",
              "    <g>\n",
              "        <path d=\"M19 3H5c-1.1 0-2 .9-2 2v14c0 1.1.9 2 2 2h14c1.1 0 2-.9 2-2V5c0-1.1-.9-2-2-2zM9 17H7v-7h2v7zm4 0h-2V7h2v10zm4 0h-2v-4h2v4z\"/>\n",
              "    </g>\n",
              "</svg>\n",
              "  </button>\n",
              "\n",
              "<style>\n",
              "  .colab-df-quickchart {\n",
              "      --bg-color: #E8F0FE;\n",
              "      --fill-color: #1967D2;\n",
              "      --hover-bg-color: #E2EBFA;\n",
              "      --hover-fill-color: #174EA6;\n",
              "      --disabled-fill-color: #AAA;\n",
              "      --disabled-bg-color: #DDD;\n",
              "  }\n",
              "\n",
              "  [theme=dark] .colab-df-quickchart {\n",
              "      --bg-color: #3B4455;\n",
              "      --fill-color: #D2E3FC;\n",
              "      --hover-bg-color: #434B5C;\n",
              "      --hover-fill-color: #FFFFFF;\n",
              "      --disabled-bg-color: #3B4455;\n",
              "      --disabled-fill-color: #666;\n",
              "  }\n",
              "\n",
              "  .colab-df-quickchart {\n",
              "    background-color: var(--bg-color);\n",
              "    border: none;\n",
              "    border-radius: 50%;\n",
              "    cursor: pointer;\n",
              "    display: none;\n",
              "    fill: var(--fill-color);\n",
              "    height: 32px;\n",
              "    padding: 0;\n",
              "    width: 32px;\n",
              "  }\n",
              "\n",
              "  .colab-df-quickchart:hover {\n",
              "    background-color: var(--hover-bg-color);\n",
              "    box-shadow: 0 1px 2px rgba(60, 64, 67, 0.3), 0 1px 3px 1px rgba(60, 64, 67, 0.15);\n",
              "    fill: var(--button-hover-fill-color);\n",
              "  }\n",
              "\n",
              "  .colab-df-quickchart-complete:disabled,\n",
              "  .colab-df-quickchart-complete:disabled:hover {\n",
              "    background-color: var(--disabled-bg-color);\n",
              "    fill: var(--disabled-fill-color);\n",
              "    box-shadow: none;\n",
              "  }\n",
              "\n",
              "  .colab-df-spinner {\n",
              "    border: 2px solid var(--fill-color);\n",
              "    border-color: transparent;\n",
              "    border-bottom-color: var(--fill-color);\n",
              "    animation:\n",
              "      spin 1s steps(1) infinite;\n",
              "  }\n",
              "\n",
              "  @keyframes spin {\n",
              "    0% {\n",
              "      border-color: transparent;\n",
              "      border-bottom-color: var(--fill-color);\n",
              "      border-left-color: var(--fill-color);\n",
              "    }\n",
              "    20% {\n",
              "      border-color: transparent;\n",
              "      border-left-color: var(--fill-color);\n",
              "      border-top-color: var(--fill-color);\n",
              "    }\n",
              "    30% {\n",
              "      border-color: transparent;\n",
              "      border-left-color: var(--fill-color);\n",
              "      border-top-color: var(--fill-color);\n",
              "      border-right-color: var(--fill-color);\n",
              "    }\n",
              "    40% {\n",
              "      border-color: transparent;\n",
              "      border-right-color: var(--fill-color);\n",
              "      border-top-color: var(--fill-color);\n",
              "    }\n",
              "    60% {\n",
              "      border-color: transparent;\n",
              "      border-right-color: var(--fill-color);\n",
              "    }\n",
              "    80% {\n",
              "      border-color: transparent;\n",
              "      border-right-color: var(--fill-color);\n",
              "      border-bottom-color: var(--fill-color);\n",
              "    }\n",
              "    90% {\n",
              "      border-color: transparent;\n",
              "      border-bottom-color: var(--fill-color);\n",
              "    }\n",
              "  }\n",
              "</style>\n",
              "\n",
              "  <script>\n",
              "    async function quickchart(key) {\n",
              "      const quickchartButtonEl =\n",
              "        document.querySelector('#' + key + ' button');\n",
              "      quickchartButtonEl.disabled = true;  // To prevent multiple clicks.\n",
              "      quickchartButtonEl.classList.add('colab-df-spinner');\n",
              "      try {\n",
              "        const charts = await google.colab.kernel.invokeFunction(\n",
              "            'suggestCharts', [key], {});\n",
              "      } catch (error) {\n",
              "        console.error('Error during call to suggestCharts:', error);\n",
              "      }\n",
              "      quickchartButtonEl.classList.remove('colab-df-spinner');\n",
              "      quickchartButtonEl.classList.add('colab-df-quickchart-complete');\n",
              "    }\n",
              "    (() => {\n",
              "      let quickchartButtonEl =\n",
              "        document.querySelector('#df-c3767b7a-0f64-4953-91a8-d2f3d7062570 button');\n",
              "      quickchartButtonEl.style.display =\n",
              "        google.colab.kernel.accessAllowed ? 'block' : 'none';\n",
              "    })();\n",
              "  </script>\n",
              "</div>\n",
              "\n",
              "    </div>\n",
              "  </div>\n"
            ],
            "application/vnd.google.colaboratory.intrinsic+json": {
              "type": "dataframe",
              "variable_name": "raw_data"
            }
          },
          "metadata": {},
          "execution_count": 6
        }
      ]
    },
    {
      "cell_type": "code",
      "source": [
        "raw_data.isnull().sum()"
      ],
      "metadata": {
        "colab": {
          "base_uri": "https://localhost:8080/"
        },
        "id": "Dekc3mq8c6iP",
        "outputId": "3c07c52a-b5f0-4516-b2ea-cc5e81c0f9b0"
      },
      "execution_count": 7,
      "outputs": [
        {
          "output_type": "execute_result",
          "data": {
            "text/plain": [
              "Unnamed: 0                    0\n",
              "Virginia                      0\n",
              "California                    0\n",
              "Florida                       0\n",
              "New York                      0\n",
              "New Jersey                    0\n",
              "Texas                         0\n",
              "Michigan                      0\n",
              "Massachusetts                 0\n",
              "Arizona                       1\n",
              "Washington                    0\n",
              "Colorado                      0\n",
              "Illinois                      0\n",
              "the District of Columbia      0\n",
              "Nevada                        0\n",
              "Hawaii                        0\n",
              "New Hampshire                 0\n",
              "Utah                          0\n",
              "Georgia                       0\n",
              "Montana                      61\n",
              "Minnesota                     0\n",
              "Louisiana                     0\n",
              "Maryland                      0\n",
              "Pennsylvania                  0\n",
              "South Carolina                0\n",
              "North Carolina                0\n",
              "Vermont                       0\n",
              "Tennessee                     0\n",
              "Oregon                        0\n",
              "New Mexico                   27\n",
              "Rhode Island                  0\n",
              "Alaska                        1\n",
              "Maine                         0\n",
              "Alabama                       0\n",
              "Wisconsin                     0\n",
              "Arkansas                      0\n",
              "Mississippi                   0\n",
              "Indiana                       0\n",
              "West Virginia                 1\n",
              "Idaho                         1\n",
              "North Dakota                108\n",
              "Connecticut                   0\n",
              "Kentucky                      0\n",
              "Missouri                      0\n",
              "Kansas                        0\n",
              "Delaware                      0\n",
              "Wyoming                      27\n",
              "Oklahoma                      0\n",
              "South Dakota                  1\n",
              "Nebraska                      0\n",
              "Iowa                          0\n",
              "Ohio                          0\n",
              "dtype: int64"
            ]
          },
          "metadata": {},
          "execution_count": 7
        }
      ]
    },
    {
      "cell_type": "code",
      "source": [
        "raw_data.info()"
      ],
      "metadata": {
        "colab": {
          "base_uri": "https://localhost:8080/"
        },
        "id": "ZbIm3dHHdFDm",
        "outputId": "d81ce9ac-d3f7-4821-b80e-a5a40b0caf15"
      },
      "execution_count": 8,
      "outputs": [
        {
          "output_type": "stream",
          "name": "stdout",
          "text": [
            "<class 'pandas.core.frame.DataFrame'>\n",
            "RangeIndex: 291 entries, 0 to 290\n",
            "Data columns (total 52 columns):\n",
            " #   Column                    Non-Null Count  Dtype  \n",
            "---  ------                    --------------  -----  \n",
            " 0   Unnamed: 0                291 non-null    object \n",
            " 1   Virginia                  291 non-null    float64\n",
            " 2   California                291 non-null    float64\n",
            " 3   Florida                   291 non-null    float64\n",
            " 4   New York                  291 non-null    float64\n",
            " 5   New Jersey                291 non-null    float64\n",
            " 6   Texas                     291 non-null    float64\n",
            " 7   Michigan                  291 non-null    float64\n",
            " 8   Massachusetts             291 non-null    float64\n",
            " 9   Arizona                   290 non-null    float64\n",
            " 10  Washington                291 non-null    float64\n",
            " 11  Colorado                  291 non-null    float64\n",
            " 12  Illinois                  291 non-null    float64\n",
            " 13  the District of Columbia  291 non-null    float64\n",
            " 14  Nevada                    291 non-null    float64\n",
            " 15  Hawaii                    291 non-null    float64\n",
            " 16  New Hampshire             291 non-null    float64\n",
            " 17  Utah                      291 non-null    float64\n",
            " 18  Georgia                   291 non-null    float64\n",
            " 19  Montana                   230 non-null    float64\n",
            " 20  Minnesota                 291 non-null    float64\n",
            " 21  Louisiana                 291 non-null    float64\n",
            " 22  Maryland                  291 non-null    float64\n",
            " 23  Pennsylvania              291 non-null    float64\n",
            " 24  South Carolina            291 non-null    float64\n",
            " 25  North Carolina            291 non-null    float64\n",
            " 26  Vermont                   291 non-null    float64\n",
            " 27  Tennessee                 291 non-null    float64\n",
            " 28  Oregon                    291 non-null    float64\n",
            " 29  New Mexico                264 non-null    float64\n",
            " 30  Rhode Island              291 non-null    float64\n",
            " 31  Alaska                    290 non-null    float64\n",
            " 32  Maine                     291 non-null    float64\n",
            " 33  Alabama                   291 non-null    float64\n",
            " 34  Wisconsin                 291 non-null    float64\n",
            " 35  Arkansas                  291 non-null    float64\n",
            " 36  Mississippi               291 non-null    float64\n",
            " 37  Indiana                   291 non-null    float64\n",
            " 38  West Virginia             290 non-null    float64\n",
            " 39  Idaho                     290 non-null    float64\n",
            " 40  North Dakota              183 non-null    float64\n",
            " 41  Connecticut               291 non-null    float64\n",
            " 42  Kentucky                  291 non-null    float64\n",
            " 43  Missouri                  291 non-null    float64\n",
            " 44  Kansas                    291 non-null    float64\n",
            " 45  Delaware                  291 non-null    float64\n",
            " 46  Wyoming                   264 non-null    float64\n",
            " 47  Oklahoma                  291 non-null    float64\n",
            " 48  South Dakota              290 non-null    float64\n",
            " 49  Nebraska                  291 non-null    float64\n",
            " 50  Iowa                      291 non-null    float64\n",
            " 51  Ohio                      291 non-null    float64\n",
            "dtypes: float64(51), object(1)\n",
            "memory usage: 118.3+ KB\n"
          ]
        }
      ]
    },
    {
      "cell_type": "code",
      "source": [
        "edit_time_data = raw_data\n",
        "edit_time_data['Unnamed: 0'] = pd.to_datetime(edit_time_data['Unnamed: 0'])"
      ],
      "metadata": {
        "id": "Ew-JtiEsdJcj"
      },
      "execution_count": 11,
      "outputs": []
    },
    {
      "cell_type": "code",
      "source": [
        "data = edit_time_data[['Unnamed: 0','Florida']]"
      ],
      "metadata": {
        "id": "EMaXQaXWd5sQ"
      },
      "execution_count": 13,
      "outputs": []
    },
    {
      "cell_type": "code",
      "source": [
        "data.rename(columns={'Unnamed: 0': 'Date'}, inplace=True)"
      ],
      "metadata": {
        "colab": {
          "base_uri": "https://localhost:8080/"
        },
        "id": "2DRLSvEdeHyZ",
        "outputId": "499d03f0-cdbe-4241-f731-32a8abd23054"
      },
      "execution_count": 14,
      "outputs": [
        {
          "output_type": "stream",
          "name": "stderr",
          "text": [
            "<ipython-input-14-9077fc172ec3>:1: SettingWithCopyWarning: \n",
            "A value is trying to be set on a copy of a slice from a DataFrame\n",
            "\n",
            "See the caveats in the documentation: https://pandas.pydata.org/pandas-docs/stable/user_guide/indexing.html#returning-a-view-versus-a-copy\n",
            "  data.rename(columns={'Unnamed: 0': 'Date'}, inplace=True)\n"
          ]
        }
      ]
    },
    {
      "cell_type": "code",
      "source": [
        "data.info()"
      ],
      "metadata": {
        "colab": {
          "base_uri": "https://localhost:8080/"
        },
        "id": "Sw0inAkVeQfm",
        "outputId": "831d29a3-2706-4d76-bccb-1461f809b2c9"
      },
      "execution_count": 15,
      "outputs": [
        {
          "output_type": "stream",
          "name": "stdout",
          "text": [
            "<class 'pandas.core.frame.DataFrame'>\n",
            "RangeIndex: 291 entries, 0 to 290\n",
            "Data columns (total 2 columns):\n",
            " #   Column   Non-Null Count  Dtype         \n",
            "---  ------   --------------  -----         \n",
            " 0   Date     291 non-null    datetime64[ns]\n",
            " 1   Florida  291 non-null    float64       \n",
            "dtypes: datetime64[ns](1), float64(1)\n",
            "memory usage: 4.7 KB\n"
          ]
        }
      ]
    },
    {
      "cell_type": "code",
      "source": [
        "data.head()"
      ],
      "metadata": {
        "colab": {
          "base_uri": "https://localhost:8080/",
          "height": 206
        },
        "id": "zOBfH5XFeUHm",
        "outputId": "27fbbb23-99e9-4f4b-c5b7-28d6936bdbda"
      },
      "execution_count": 16,
      "outputs": [
        {
          "output_type": "execute_result",
          "data": {
            "text/plain": [
              "        Date        Florida\n",
              "0 2000-01-01  107057.833479\n",
              "1 2000-02-01  107289.730712\n",
              "2 2000-03-01  107570.836383\n",
              "3 2000-04-01  108142.251910\n",
              "4 2000-05-01  108758.461980"
            ],
            "text/html": [
              "\n",
              "  <div id=\"df-98efa098-08cc-4396-98f6-a4f81153e062\" class=\"colab-df-container\">\n",
              "    <div>\n",
              "<style scoped>\n",
              "    .dataframe tbody tr th:only-of-type {\n",
              "        vertical-align: middle;\n",
              "    }\n",
              "\n",
              "    .dataframe tbody tr th {\n",
              "        vertical-align: top;\n",
              "    }\n",
              "\n",
              "    .dataframe thead th {\n",
              "        text-align: right;\n",
              "    }\n",
              "</style>\n",
              "<table border=\"1\" class=\"dataframe\">\n",
              "  <thead>\n",
              "    <tr style=\"text-align: right;\">\n",
              "      <th></th>\n",
              "      <th>Date</th>\n",
              "      <th>Florida</th>\n",
              "    </tr>\n",
              "  </thead>\n",
              "  <tbody>\n",
              "    <tr>\n",
              "      <th>0</th>\n",
              "      <td>2000-01-01</td>\n",
              "      <td>107057.833479</td>\n",
              "    </tr>\n",
              "    <tr>\n",
              "      <th>1</th>\n",
              "      <td>2000-02-01</td>\n",
              "      <td>107289.730712</td>\n",
              "    </tr>\n",
              "    <tr>\n",
              "      <th>2</th>\n",
              "      <td>2000-03-01</td>\n",
              "      <td>107570.836383</td>\n",
              "    </tr>\n",
              "    <tr>\n",
              "      <th>3</th>\n",
              "      <td>2000-04-01</td>\n",
              "      <td>108142.251910</td>\n",
              "    </tr>\n",
              "    <tr>\n",
              "      <th>4</th>\n",
              "      <td>2000-05-01</td>\n",
              "      <td>108758.461980</td>\n",
              "    </tr>\n",
              "  </tbody>\n",
              "</table>\n",
              "</div>\n",
              "    <div class=\"colab-df-buttons\">\n",
              "\n",
              "  <div class=\"colab-df-container\">\n",
              "    <button class=\"colab-df-convert\" onclick=\"convertToInteractive('df-98efa098-08cc-4396-98f6-a4f81153e062')\"\n",
              "            title=\"Convert this dataframe to an interactive table.\"\n",
              "            style=\"display:none;\">\n",
              "\n",
              "  <svg xmlns=\"http://www.w3.org/2000/svg\" height=\"24px\" viewBox=\"0 -960 960 960\">\n",
              "    <path d=\"M120-120v-720h720v720H120Zm60-500h600v-160H180v160Zm220 220h160v-160H400v160Zm0 220h160v-160H400v160ZM180-400h160v-160H180v160Zm440 0h160v-160H620v160ZM180-180h160v-160H180v160Zm440 0h160v-160H620v160Z\"/>\n",
              "  </svg>\n",
              "    </button>\n",
              "\n",
              "  <style>\n",
              "    .colab-df-container {\n",
              "      display:flex;\n",
              "      gap: 12px;\n",
              "    }\n",
              "\n",
              "    .colab-df-convert {\n",
              "      background-color: #E8F0FE;\n",
              "      border: none;\n",
              "      border-radius: 50%;\n",
              "      cursor: pointer;\n",
              "      display: none;\n",
              "      fill: #1967D2;\n",
              "      height: 32px;\n",
              "      padding: 0 0 0 0;\n",
              "      width: 32px;\n",
              "    }\n",
              "\n",
              "    .colab-df-convert:hover {\n",
              "      background-color: #E2EBFA;\n",
              "      box-shadow: 0px 1px 2px rgba(60, 64, 67, 0.3), 0px 1px 3px 1px rgba(60, 64, 67, 0.15);\n",
              "      fill: #174EA6;\n",
              "    }\n",
              "\n",
              "    .colab-df-buttons div {\n",
              "      margin-bottom: 4px;\n",
              "    }\n",
              "\n",
              "    [theme=dark] .colab-df-convert {\n",
              "      background-color: #3B4455;\n",
              "      fill: #D2E3FC;\n",
              "    }\n",
              "\n",
              "    [theme=dark] .colab-df-convert:hover {\n",
              "      background-color: #434B5C;\n",
              "      box-shadow: 0px 1px 3px 1px rgba(0, 0, 0, 0.15);\n",
              "      filter: drop-shadow(0px 1px 2px rgba(0, 0, 0, 0.3));\n",
              "      fill: #FFFFFF;\n",
              "    }\n",
              "  </style>\n",
              "\n",
              "    <script>\n",
              "      const buttonEl =\n",
              "        document.querySelector('#df-98efa098-08cc-4396-98f6-a4f81153e062 button.colab-df-convert');\n",
              "      buttonEl.style.display =\n",
              "        google.colab.kernel.accessAllowed ? 'block' : 'none';\n",
              "\n",
              "      async function convertToInteractive(key) {\n",
              "        const element = document.querySelector('#df-98efa098-08cc-4396-98f6-a4f81153e062');\n",
              "        const dataTable =\n",
              "          await google.colab.kernel.invokeFunction('convertToInteractive',\n",
              "                                                    [key], {});\n",
              "        if (!dataTable) return;\n",
              "\n",
              "        const docLinkHtml = 'Like what you see? Visit the ' +\n",
              "          '<a target=\"_blank\" href=https://colab.research.google.com/notebooks/data_table.ipynb>data table notebook</a>'\n",
              "          + ' to learn more about interactive tables.';\n",
              "        element.innerHTML = '';\n",
              "        dataTable['output_type'] = 'display_data';\n",
              "        await google.colab.output.renderOutput(dataTable, element);\n",
              "        const docLink = document.createElement('div');\n",
              "        docLink.innerHTML = docLinkHtml;\n",
              "        element.appendChild(docLink);\n",
              "      }\n",
              "    </script>\n",
              "  </div>\n",
              "\n",
              "\n",
              "<div id=\"df-5885d5ee-3d23-48a0-83db-171f49f5171d\">\n",
              "  <button class=\"colab-df-quickchart\" onclick=\"quickchart('df-5885d5ee-3d23-48a0-83db-171f49f5171d')\"\n",
              "            title=\"Suggest charts\"\n",
              "            style=\"display:none;\">\n",
              "\n",
              "<svg xmlns=\"http://www.w3.org/2000/svg\" height=\"24px\"viewBox=\"0 0 24 24\"\n",
              "     width=\"24px\">\n",
              "    <g>\n",
              "        <path d=\"M19 3H5c-1.1 0-2 .9-2 2v14c0 1.1.9 2 2 2h14c1.1 0 2-.9 2-2V5c0-1.1-.9-2-2-2zM9 17H7v-7h2v7zm4 0h-2V7h2v10zm4 0h-2v-4h2v4z\"/>\n",
              "    </g>\n",
              "</svg>\n",
              "  </button>\n",
              "\n",
              "<style>\n",
              "  .colab-df-quickchart {\n",
              "      --bg-color: #E8F0FE;\n",
              "      --fill-color: #1967D2;\n",
              "      --hover-bg-color: #E2EBFA;\n",
              "      --hover-fill-color: #174EA6;\n",
              "      --disabled-fill-color: #AAA;\n",
              "      --disabled-bg-color: #DDD;\n",
              "  }\n",
              "\n",
              "  [theme=dark] .colab-df-quickchart {\n",
              "      --bg-color: #3B4455;\n",
              "      --fill-color: #D2E3FC;\n",
              "      --hover-bg-color: #434B5C;\n",
              "      --hover-fill-color: #FFFFFF;\n",
              "      --disabled-bg-color: #3B4455;\n",
              "      --disabled-fill-color: #666;\n",
              "  }\n",
              "\n",
              "  .colab-df-quickchart {\n",
              "    background-color: var(--bg-color);\n",
              "    border: none;\n",
              "    border-radius: 50%;\n",
              "    cursor: pointer;\n",
              "    display: none;\n",
              "    fill: var(--fill-color);\n",
              "    height: 32px;\n",
              "    padding: 0;\n",
              "    width: 32px;\n",
              "  }\n",
              "\n",
              "  .colab-df-quickchart:hover {\n",
              "    background-color: var(--hover-bg-color);\n",
              "    box-shadow: 0 1px 2px rgba(60, 64, 67, 0.3), 0 1px 3px 1px rgba(60, 64, 67, 0.15);\n",
              "    fill: var(--button-hover-fill-color);\n",
              "  }\n",
              "\n",
              "  .colab-df-quickchart-complete:disabled,\n",
              "  .colab-df-quickchart-complete:disabled:hover {\n",
              "    background-color: var(--disabled-bg-color);\n",
              "    fill: var(--disabled-fill-color);\n",
              "    box-shadow: none;\n",
              "  }\n",
              "\n",
              "  .colab-df-spinner {\n",
              "    border: 2px solid var(--fill-color);\n",
              "    border-color: transparent;\n",
              "    border-bottom-color: var(--fill-color);\n",
              "    animation:\n",
              "      spin 1s steps(1) infinite;\n",
              "  }\n",
              "\n",
              "  @keyframes spin {\n",
              "    0% {\n",
              "      border-color: transparent;\n",
              "      border-bottom-color: var(--fill-color);\n",
              "      border-left-color: var(--fill-color);\n",
              "    }\n",
              "    20% {\n",
              "      border-color: transparent;\n",
              "      border-left-color: var(--fill-color);\n",
              "      border-top-color: var(--fill-color);\n",
              "    }\n",
              "    30% {\n",
              "      border-color: transparent;\n",
              "      border-left-color: var(--fill-color);\n",
              "      border-top-color: var(--fill-color);\n",
              "      border-right-color: var(--fill-color);\n",
              "    }\n",
              "    40% {\n",
              "      border-color: transparent;\n",
              "      border-right-color: var(--fill-color);\n",
              "      border-top-color: var(--fill-color);\n",
              "    }\n",
              "    60% {\n",
              "      border-color: transparent;\n",
              "      border-right-color: var(--fill-color);\n",
              "    }\n",
              "    80% {\n",
              "      border-color: transparent;\n",
              "      border-right-color: var(--fill-color);\n",
              "      border-bottom-color: var(--fill-color);\n",
              "    }\n",
              "    90% {\n",
              "      border-color: transparent;\n",
              "      border-bottom-color: var(--fill-color);\n",
              "    }\n",
              "  }\n",
              "</style>\n",
              "\n",
              "  <script>\n",
              "    async function quickchart(key) {\n",
              "      const quickchartButtonEl =\n",
              "        document.querySelector('#' + key + ' button');\n",
              "      quickchartButtonEl.disabled = true;  // To prevent multiple clicks.\n",
              "      quickchartButtonEl.classList.add('colab-df-spinner');\n",
              "      try {\n",
              "        const charts = await google.colab.kernel.invokeFunction(\n",
              "            'suggestCharts', [key], {});\n",
              "      } catch (error) {\n",
              "        console.error('Error during call to suggestCharts:', error);\n",
              "      }\n",
              "      quickchartButtonEl.classList.remove('colab-df-spinner');\n",
              "      quickchartButtonEl.classList.add('colab-df-quickchart-complete');\n",
              "    }\n",
              "    (() => {\n",
              "      let quickchartButtonEl =\n",
              "        document.querySelector('#df-5885d5ee-3d23-48a0-83db-171f49f5171d button');\n",
              "      quickchartButtonEl.style.display =\n",
              "        google.colab.kernel.accessAllowed ? 'block' : 'none';\n",
              "    })();\n",
              "  </script>\n",
              "</div>\n",
              "\n",
              "    </div>\n",
              "  </div>\n"
            ],
            "application/vnd.google.colaboratory.intrinsic+json": {
              "type": "dataframe",
              "variable_name": "data",
              "summary": "{\n  \"name\": \"data\",\n  \"rows\": 291,\n  \"fields\": [\n    {\n      \"column\": \"Date\",\n      \"properties\": {\n        \"dtype\": \"date\",\n        \"min\": \"2000-01-01 00:00:00\",\n        \"max\": \"2024-03-01 00:00:00\",\n        \"num_unique_values\": 291,\n        \"samples\": [\n          \"2007-01-01 00:00:00\",\n          \"2021-08-01 00:00:00\",\n          \"2003-10-01 00:00:00\"\n        ],\n        \"semantic_type\": \"\",\n        \"description\": \"\"\n      }\n    },\n    {\n      \"column\": \"Florida\",\n      \"properties\": {\n        \"dtype\": \"number\",\n        \"std\": 75543.72184641167,\n        \"min\": 107057.83347910718,\n        \"max\": 397137.4370421434,\n        \"num_unique_values\": 291,\n        \"samples\": [\n          254700.4862890716,\n          307016.00408052746,\n          151436.72974709733\n        ],\n        \"semantic_type\": \"\",\n        \"description\": \"\"\n      }\n    }\n  ]\n}"
            }
          },
          "metadata": {},
          "execution_count": 16
        }
      ]
    },
    {
      "cell_type": "code",
      "source": [
        "data.set_index('Date', inplace=True)\n",
        "data.plot(figsize=(10,5))\n",
        "plt.ylabel('Average Home Price')\n",
        "plt.title(\"Housing Prices for FL from 2000 to 2024\")"
      ],
      "metadata": {
        "colab": {
          "base_uri": "https://localhost:8080/",
          "height": 504
        },
        "id": "zZrDUZUpeYao",
        "outputId": "6a6a4883-9812-4b1d-85d8-4049b1744f9d"
      },
      "execution_count": 17,
      "outputs": [
        {
          "output_type": "execute_result",
          "data": {
            "text/plain": [
              "Text(0.5, 1.0, 'Housing Prices for FL from 2000 to 2024')"
            ]
          },
          "metadata": {},
          "execution_count": 17
        },
        {
          "output_type": "display_data",
          "data": {
            "text/plain": [
              "<Figure size 1000x500 with 1 Axes>"
            ],
            "image/png": "[encoded data removed]"
          },
          "metadata": {}
        }
      ]
    },
    {
      "cell_type": "markdown",
      "source": [
        "## SPLITTING DATA"
      ],
      "metadata": {
        "id": "KSr0Oy9EeiKO"
      }
    },
    {
      "cell_type": "code",
      "source": [
        "prices = data[['Florida']]\n",
        "split_size = int(0.8* len(prices))\n",
        "X_train, y_train = prices.index[:split_size], prices.iloc[:split_size]\n",
        "X_test, y_test = prices.index[split_size:], prices.iloc[split_size:]"
      ],
      "metadata": {
        "id": "E0maPLTqenpr"
      },
      "execution_count": 18,
      "outputs": []
    },
    {
      "cell_type": "code",
      "source": [
        "len(X_train), len(X_test), len(y_train), len(y_test)"
      ],
      "metadata": {
        "colab": {
          "base_uri": "https://localhost:8080/"
        },
        "id": "YsPWiMTjfULQ",
        "outputId": "ae8f8a9d-53ab-498f-e128-78842d9d102a"
      },
      "execution_count": 19,
      "outputs": [
        {
          "output_type": "execute_result",
          "data": {
            "text/plain": [
              "(232, 59, 232, 59)"
            ]
          },
          "metadata": {},
          "execution_count": 19
        }
      ]
    },
    {
      "cell_type": "code",
      "source": [
        "ts_plot(timesteps=X_train, values =y_train, label='Train Data')\n",
        "ts_plot(timesteps=X_test, values=y_test, label='Test Data')"
      ],
      "metadata": {
        "colab": {
          "base_uri": "https://localhost:8080/",
          "height": 449
        },
        "id": "XY96-qLMfXN8",
        "outputId": "270178d2-fd34-4693-f3e1-75ff6f36fb7d"
      },
      "execution_count": 20,
      "outputs": [
        {
          "output_type": "display_data",
          "data": {
            "text/plain": [
              "<Figure size 640x480 with 1 Axes>"
            ],
            "image/png": "[encoded data removed]"
          },
          "metadata": {}
        }
      ]
    },
    {
      "cell_type": "markdown",
      "source": [
        "# NAIVE MODEL"
      ],
      "metadata": {
        "id": "imvmcz0Vfcfs"
      }
    },
    {
      "cell_type": "code",
      "source": [
        "n_forecast = y_test[:-1]\n",
        "n_forecast[:10],n_forecast[-10:]"
      ],
      "metadata": {
        "colab": {
          "base_uri": "https://localhost:8080/"
        },
        "id": "-VtUSjdzffZT",
        "outputId": "d427c757-f404-4c91-d0bd-a6edeed9b3a8"
      },
      "execution_count": 21,
      "outputs": [
        {
          "output_type": "execute_result",
          "data": {
            "text/plain": [
              "(                  Florida\n",
              " Date                     \n",
              " 2019-05-01  240383.987401\n",
              " 2019-06-01  240789.160670\n",
              " 2019-07-01  241313.055653\n",
              " 2019-08-01  242027.538896\n",
              " 2019-09-01  242737.822182\n",
              " 2019-10-01  243679.074253\n",
              " 2019-11-01  244966.488970\n",
              " 2019-12-01  246553.121018\n",
              " 2020-01-01  248475.389561\n",
              " 2020-02-01  250286.419047,\n",
              "                   Florida\n",
              " Date                     \n",
              " 2023-05-01  385769.552090\n",
              " 2023-06-01  387444.570719\n",
              " 2023-07-01  389148.023383\n",
              " 2023-08-01  390836.127212\n",
              " 2023-09-01  392010.105986\n",
              " 2023-10-01  393073.815926\n",
              " 2023-11-01  394006.460885\n",
              " 2023-12-01  394838.823983\n",
              " 2024-01-01  395544.813548\n",
              " 2024-02-01  396272.856940)"
            ]
          },
          "metadata": {},
          "execution_count": 21
        }
      ]
    },
    {
      "cell_type": "code",
      "source": [
        "plt.figure(figsize=(10, 7))\n",
        "ts_plot(timesteps=X_train, values=y_train, label=\"Train data\")\n",
        "ts_plot(timesteps=X_test, values=y_test, label=\"Test data\")\n",
        "ts_plot(timesteps=X_test[1:], values=n_forecast, format=\"-\", label=\"N-forecast\");"
      ],
      "metadata": {
        "colab": {
          "base_uri": "https://localhost:8080/",
          "height": 619
        },
        "id": "QikEKAL5fm8r",
        "outputId": "8bdc65a3-bf34-4ccc-d86a-01bbd191177f"
      },
      "execution_count": 22,
      "outputs": [
        {
          "output_type": "display_data",
          "data": {
            "text/plain": [
              "<Figure size 1000x700 with 1 Axes>"
            ],
            "image/png": "[encoded data removed]"
          },
          "metadata": {}
        }
      ]
    },
    {
      "cell_type": "code",
      "source": [
        "n_forcast_results = eval_pred(y_true = y_test[1:],\n",
        "                              y_pred = n_forecast)\n",
        "n_forcast_results"
      ],
      "metadata": {
        "colab": {
          "base_uri": "https://localhost:8080/"
        },
        "id": "TtcTc1lrfp2P",
        "outputId": "45606ca3-3958-4eb2-c0d6-494d1d1e21cf"
      },
      "execution_count": 23,
      "outputs": [
        {
          "output_type": "execute_result",
          "data": {
            "text/plain": [
              "{'mae': 2874.5833,\n",
              " 'mse': 15542009.0,\n",
              " 'rmse': 3942.3354,\n",
              " 'mape': 0.9027841,\n",
              " 'mase': 0.9851527}"
            ]
          },
          "metadata": {},
          "execution_count": 23
        }
      ]
    },
    {
      "cell_type": "code",
      "source": [],
      "metadata": {
        "id": "prJaFh-UnWYB"
      },
      "execution_count": null,
      "outputs": []
    },
    {
      "cell_type": "markdown",
      "source": [
        "#RNN"
      ],
      "metadata": {
        "id": "e6YJ9CMnnXp2"
      }
    },
    {
      "cell_type": "code",
      "source": [
        "def create_sequences(input_data, window_size):\n",
        "    X = []\n",
        "    y = []\n",
        "    for i in range(len(input_data) - window_size):\n",
        "        X.append(input_data.iloc[i:(i + window_size)].values)\n",
        "        y.append(input_data.iloc[i + window_size])\n",
        "    return np.array(X), np.array(y)\n",
        "\n",
        "window_size = 12\n",
        "X_train_seq, y_train_seq = create_sequences(y_train, window_size)\n",
        "X_test_seq, y_test_seq = create_sequences(y_test, window_size)\n"
      ],
      "metadata": {
        "id": "OK13fTGmnYi8"
      },
      "execution_count": 69,
      "outputs": []
    },
    {
      "cell_type": "code",
      "source": [
        "def build_rnn_model(input_shape):\n",
        "    model = tf.keras.Sequential([\n",
        "        layers.LSTM(128, activation='relu', input_shape=input_shape, return_sequences=True),\n",
        "        layers.LSTM(64, activation='relu', input_shape=input_shape, return_sequences=True),\n",
        "        layers.LSTM(64, activation='relu', input_shape=input_shape, return_sequences=True),\n",
        "        layers.LSTM(64, activation='relu', input_shape=input_shape, return_sequences=True),\n",
        "        layers.LSTM(64, activation='relu', input_shape=input_shape, return_sequences=False),\n",
        "        layers.Dense(1)\n",
        "    ])\n",
        "    model.compile(optimizer='adam', loss='mse')\n",
        "    return model\n",
        "\n",
        "rnn_model = build_rnn_model((window_size, 1))\n"
      ],
      "metadata": {
        "id": "ihk5WrTwncGP"
      },
      "execution_count": 115,
      "outputs": []
    },
    {
      "cell_type": "code",
      "source": [
        "rnn_model.fit(X_train_seq, y_train_seq, epochs=1000, verbose = 0, validation_data=(X_test_seq, y_test_seq))\n"
      ],
      "metadata": {
        "colab": {
          "base_uri": "https://localhost:8080/"
        },
        "id": "QU08RQ_nnfdy",
        "outputId": "deae2b63-d22f-45a8-f05a-64af55b6cf2c"
      },
      "execution_count": 105,
      "outputs": [
        {
          "output_type": "execute_result",
          "data": {
            "text/plain": [
              "<keras.src.callbacks.History at 0x7d19d8688df0>"
            ]
          },
          "metadata": {},
          "execution_count": 105
        }
      ]
    },
    {
      "cell_type": "code",
      "source": [
        "y_pred_seq = rnn_model.predict(X_test_seq)\n",
        "results = eval_pred(y_test_seq, y_pred_seq)\n",
        "print(\"RNN model performance:\", results)"
      ],
      "metadata": {
        "colab": {
          "base_uri": "https://localhost:8080/"
        },
        "id": "lJ7Hwe-dnl7u",
        "outputId": "dfc5c5ea-345e-4455-a0ad-644ffe1494b3"
      },
      "execution_count": 106,
      "outputs": [
        {
          "output_type": "stream",
          "name": "stdout",
          "text": [
            "2/2 [==============================] - 1s 13ms/step\n",
            "RNN model performance: {'mae': 26898.213, 'mse': 1243090800.0, 'rmse': 35257.492, 'mape': 7.896217, 'mase': 8.034659}\n"
          ]
        }
      ]
    },
    {
      "cell_type": "code",
      "source": [
        "\n",
        "y_pred_rnn = rnn_model.predict(X_test_seq)\n",
        "\n",
        "test_dates_corrected = X_test[window_size:]\n",
        "\n",
        "plt.figure(figsize=(12, 6))\n",
        "plt.plot(test_dates_corrected, y_test_seq, label='Actual Test Data', marker='.', linestyle='-', color='blue')\n",
        "plt.plot(test_dates_corrected, y_pred_rnn, label='RNN Predictions', marker='o', linestyle='--', color='red')\n",
        "plt.title('Comparison of RNN Predictions and Actual Test Data')\n",
        "plt.xlabel('Date')\n",
        "plt.ylabel('Average Home Price')\n",
        "plt.legend()\n",
        "plt.grid(True)\n",
        "plt.show()\n"
      ],
      "metadata": {
        "colab": {
          "base_uri": "https://localhost:8080/",
          "height": 581
        },
        "id": "fMQUIR1On5Jd",
        "outputId": "d534e90c-f794-41dd-8338-0d83bef0138e"
      },
      "execution_count": 107,
      "outputs": [
        {
          "output_type": "stream",
          "name": "stdout",
          "text": [
            "2/2 [==============================] - 0s 12ms/step\n"
          ]
        },
        {
          "output_type": "display_data",
          "data": {
            "text/plain": [
              "<Figure size 1200x600 with 1 Axes>"
            ],
            "image/png": "[encoded data removed]"
          },
          "metadata": {}
        }
      ]
    },
    {
      "cell_type": "code",
      "source": [
        "print(\"Naive Forecast Evaluation:\")\n",
        "print(n_forcast_results)\n",
        "print(\"\\nRNN Model Evaluation:\")\n",
        "print(results)\n"
      ],
      "metadata": {
        "colab": {
          "base_uri": "https://localhost:8080/"
        },
        "id": "8RxpzG5soLe1",
        "outputId": "c2a9911e-c6d5-4f2f-c743-2a9242db428e"
      },
      "execution_count": 113,
      "outputs": [
        {
          "output_type": "stream",
          "name": "stdout",
          "text": [
            "Naive Forecast Evaluation:\n",
            "{'mae': 2874.5833, 'mse': 15542009.0, 'rmse': 3942.3354, 'mape': 0.9027841, 'mase': 0.9851527}\n",
            "\n",
            "RNN Model Evaluation:\n",
            "{'mae': 26898.213, 'mse': 1243090800.0, 'rmse': 35257.492, 'mape': 7.896217, 'mase': 8.034659}\n"
          ]
        }
      ]
    }
  ]
}